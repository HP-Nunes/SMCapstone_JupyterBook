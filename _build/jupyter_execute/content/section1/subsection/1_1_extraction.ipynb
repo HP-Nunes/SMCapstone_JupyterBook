{
 "cells": [
  {
   "cell_type": "markdown",
   "metadata": {
    "id": "7euO8R3C5eB8"
   },
   "source": [
    "# **1. Extraction**\n",
    "\n",
    "\n"
   ]
  },
  {
   "cell_type": "markdown",
   "metadata": {
    "id": "WXd6-wn26Ia1"
   },
   "source": [
    "#### Boilerplate Code"
   ]
  },
  {
   "cell_type": "code",
   "execution_count": 1,
   "metadata": {
    "ExecuteTime": {
     "end_time": "2021-10-18T22:48:32.790684Z",
     "start_time": "2021-10-18T22:48:32.784213Z"
    },
    "executionInfo": {
     "elapsed": 315,
     "status": "ok",
     "timestamp": 1634596520719,
     "user": {
      "displayName": "Hadrien Picq",
      "photoUrl": "https://lh3.googleusercontent.com/a-/AOh14GhSHZYb6zJSoy-jKrugkglkffsj8Bu_tOJP4zNXFA=s64",
      "userId": "16179287855312436736"
     },
     "user_tz": 420
    },
    "id": "qWqePA1K6MTy",
    "tags": [
     "hide-input",
     "hide-output"
    ]
   },
   "outputs": [
    {
     "name": "stdout",
     "output_type": "stream",
     "text": [
      "\u001b[31mERROR: Could not open requirements file: [Errno 2] No such file or directory: 'assets/requirements.txt'\u001b[0m\r\n"
     ]
    }
   ],
   "source": [
    "!pip install -r assets/requirements.txt"
   ]
  },
  {
   "cell_type": "markdown",
   "metadata": {
    "id": "16HXMDPm6z8g"
   },
   "source": [
    "## Get the Data"
   ]
  },
  {
   "cell_type": "markdown",
   "metadata": {
    "id": "SldYRw5R7EaS"
   },
   "source": [
    "We are pulling Bay Wheels raw dataset from the [Lyft's System Data](https://www.lyft.com/bikes/bay-wheels/system-data) page (under [Download Bay Wheels trip history data](https://s3.amazonaws.com/baywheels-data/index.html)). The data is contained within zipped csv files for each month of a given year; therefore, I clicked and downloaded all the files within my date range of interest: ie, January 2019 - August 2021.\n",
    "\n",
    "I unzipped the files and saved each csv into a folder corresponding to the year the data was created (thus, I had three folders for 2019, 2020, and 2021).\n",
    "\n",
    "---\n",
    "Improvements:\n",
    "\n",
    "*   Write a batch script to pull the csv files directly from Lyft's website;\n",
    "  *   Issues: Lyft does not provide an API to call upon their historical dataset. Furthermore, due to the rebranding of Bay Wheels from Ford Go Bike in mid-2019, which is reflected in the filepath convention to the files, that added a layer of difficulty to work around with. Finally, the zip files contain a folder dedicated to csv files formatted towards MacOS requirements, which I did not need to extract.\n",
    "\n"
   ]
  },
  {
   "cell_type": "markdown",
   "metadata": {
    "id": "RmgprTNc_QbB"
   },
   "source": [
    "### Step 1: Combine the raw data, split by months, into a single csv for each given year."
   ]
  },
  {
   "cell_type": "code",
   "execution_count": 2,
   "metadata": {
    "id": "WzXVa4Ls6z0x",
    "tags": [
     "hide-input"
    ]
   },
   "outputs": [],
   "source": [
    "#@title\n",
    "def combineRawData(year):\n",
    "  # filepath2csv must be a string, and link to all csv files\n",
    "  # needs to end like this: '/*.csv'\n",
    "    filepath2csv = './rawdata/systemdatalyft/' + str(year) + 'lyftraw/*.csv'\n",
    "  # filepath is like filepath2csv but without '/*.csv'\n",
    "    filepath = './rawdata/systemdatalyft/' + str(year) + 'lyftraw/'\n",
    "  # name_csv is the combined dataframe saved into a single csv within the designated filepath\n",
    "    name_csv = 'lyft' + str(year) + '_raw.csv'\n",
    "\n",
    "    files = glob.glob(filepath2csv)\n",
    "\n",
    "    for i, f in enumerate (files):\n",
    "        if i == 0:\n",
    "            df = pd.read_csv(f)\n",
    "            df['fname'] = f\n",
    "        else:\n",
    "            tmp = pd.read_csv(f)\n",
    "            tmp['fname'] = f\n",
    "            df = df.append(tmp)\n",
    "            \n",
    "    df.to_csv(filepath+name_csv,index=False)"
   ]
  },
  {
   "cell_type": "markdown",
   "metadata": {
    "id": "sFzIVrwMCijN"
   },
   "source": [
    "#### 2019"
   ]
  },
  {
   "cell_type": "code",
   "execution_count": 3,
   "metadata": {
    "cellView": "form",
    "id": "etYdkbVCCir8",
    "tags": [
     "hide-input"
    ]
   },
   "outputs": [
    {
     "ename": "NameError",
     "evalue": "name 'glob' is not defined",
     "output_type": "error",
     "traceback": [
      "\u001b[0;31m---------------------------------------------------------------------------\u001b[0m",
      "\u001b[0;31mNameError\u001b[0m                                 Traceback (most recent call last)",
      "\u001b[0;32m<ipython-input-3-5e3ea0600579>\u001b[0m in \u001b[0;36m<module>\u001b[0;34m\u001b[0m\n\u001b[1;32m      1\u001b[0m \u001b[0;31m#@title\u001b[0m\u001b[0;34m\u001b[0m\u001b[0;34m\u001b[0m\u001b[0;34m\u001b[0m\u001b[0m\n\u001b[0;32m----> 2\u001b[0;31m \u001b[0mcombineRawData\u001b[0m\u001b[0;34m(\u001b[0m\u001b[0;34m'2019'\u001b[0m\u001b[0;34m)\u001b[0m\u001b[0;34m\u001b[0m\u001b[0;34m\u001b[0m\u001b[0m\n\u001b[0m",
      "\u001b[0;32m<ipython-input-2-33285b1ec758>\u001b[0m in \u001b[0;36mcombineRawData\u001b[0;34m(year)\u001b[0m\n\u001b[1;32m      9\u001b[0m     \u001b[0mname_csv\u001b[0m \u001b[0;34m=\u001b[0m \u001b[0;34m'lyft'\u001b[0m \u001b[0;34m+\u001b[0m \u001b[0mstr\u001b[0m\u001b[0;34m(\u001b[0m\u001b[0myear\u001b[0m\u001b[0;34m)\u001b[0m \u001b[0;34m+\u001b[0m \u001b[0;34m'_raw.csv'\u001b[0m\u001b[0;34m\u001b[0m\u001b[0;34m\u001b[0m\u001b[0m\n\u001b[1;32m     10\u001b[0m \u001b[0;34m\u001b[0m\u001b[0m\n\u001b[0;32m---> 11\u001b[0;31m     \u001b[0mfiles\u001b[0m \u001b[0;34m=\u001b[0m \u001b[0mglob\u001b[0m\u001b[0;34m.\u001b[0m\u001b[0mglob\u001b[0m\u001b[0;34m(\u001b[0m\u001b[0mfilepath2csv\u001b[0m\u001b[0;34m)\u001b[0m\u001b[0;34m\u001b[0m\u001b[0;34m\u001b[0m\u001b[0m\n\u001b[0m\u001b[1;32m     12\u001b[0m \u001b[0;34m\u001b[0m\u001b[0m\n\u001b[1;32m     13\u001b[0m     \u001b[0;32mfor\u001b[0m \u001b[0mi\u001b[0m\u001b[0;34m,\u001b[0m \u001b[0mf\u001b[0m \u001b[0;32min\u001b[0m \u001b[0menumerate\u001b[0m \u001b[0;34m(\u001b[0m\u001b[0mfiles\u001b[0m\u001b[0;34m)\u001b[0m\u001b[0;34m:\u001b[0m\u001b[0;34m\u001b[0m\u001b[0;34m\u001b[0m\u001b[0m\n",
      "\u001b[0;31mNameError\u001b[0m: name 'glob' is not defined"
     ]
    }
   ],
   "source": [
    "#@title\n",
    "combineRawData('2019')"
   ]
  },
  {
   "cell_type": "markdown",
   "metadata": {
    "id": "Rfm8hsBLETUS"
   },
   "source": [
    "The output file will be in the folder with all the input files; you can then just remove the latter."
   ]
  },
  {
   "cell_type": "markdown",
   "metadata": {
    "id": "KhvI9bsyDybF"
   },
   "source": [
    "<!-- ![img](1extract_img.png)\n",
    " -->\n",
    "<img align=\"left\" width=\"60%\" height=\"30%\" style=\"margin-right:25px\" src=\"1extract_img.png\">"
   ]
  },
  {
   "cell_type": "markdown",
   "metadata": {
    "id": "9lMoAwiPEkQD"
   },
   "source": [
    "Repeat for the 2020 and 2021 datasets:"
   ]
  },
  {
   "cell_type": "markdown",
   "metadata": {
    "id": "fCNzdzCyCiRW"
   },
   "source": [
    "#### *2020*"
   ]
  },
  {
   "cell_type": "code",
   "execution_count": null,
   "metadata": {
    "cellView": "form",
    "id": "hOqc_IsTCiZv",
    "tags": [
     "hide-input"
    ]
   },
   "outputs": [],
   "source": [
    "#@title\n",
    "combineRawData('2020')"
   ]
  },
  {
   "cell_type": "markdown",
   "metadata": {
    "id": "RZSq39ZpCh5k"
   },
   "source": [
    "#### *2021*"
   ]
  },
  {
   "cell_type": "code",
   "execution_count": null,
   "metadata": {
    "cellView": "form",
    "id": "J7eb-jPZCiE_",
    "tags": [
     "hide-input"
    ]
   },
   "outputs": [],
   "source": [
    "#@title\n",
    "combineRawData('2021')"
   ]
  },
  {
   "cell_type": "markdown",
   "metadata": {
    "id": "XsROpZSFE1sA"
   },
   "source": [
    "You might think *why not just combine all of the yearly dataset into one csv file?* which is not an unreasonable thought. Wrangling data, in my experience, is an iterative process where incongruity in the raw dataset is uncovered through trials and errors. With these particular sets of data, I observed that their schema was not consistent in-between years (2019 was further complicated due to rebranding, so some of the data inputs changed in the meantime).\n",
    "\n"
   ]
  }
 ],
 "metadata": {
  "celltoolbar": "Tags",
  "colab": {
   "authorship_tag": "ABX9TyOS1qisPu17i8pNNElUnnhO",
   "collapsed_sections": [],
   "name": "1_1_extraction.ipynb",
   "provenance": []
  },
  "kernelspec": {
   "display_name": "Python 3",
   "language": "python",
   "name": "python3"
  },
  "language_info": {
   "codemirror_mode": {
    "name": "ipython",
    "version": 3
   },
   "file_extension": ".py",
   "mimetype": "text/x-python",
   "name": "python",
   "nbconvert_exporter": "python",
   "pygments_lexer": "ipython3",
   "version": "3.7.11"
  },
  "toc": {
   "base_numbering": 1,
   "nav_menu": {},
   "number_sections": true,
   "sideBar": true,
   "skip_h1_title": false,
   "title_cell": "Table of Contents",
   "title_sidebar": "Contents",
   "toc_cell": false,
   "toc_position": {},
   "toc_section_display": true,
   "toc_window_display": false
  },
  "varInspector": {
   "cols": {
    "lenName": 16,
    "lenType": 16,
    "lenVar": 40
   },
   "kernels_config": {
    "python": {
     "delete_cmd_postfix": "",
     "delete_cmd_prefix": "del ",
     "library": "var_list.py",
     "varRefreshCmd": "print(var_dic_list())"
    },
    "r": {
     "delete_cmd_postfix": ") ",
     "delete_cmd_prefix": "rm(",
     "library": "var_list.r",
     "varRefreshCmd": "cat(var_dic_list()) "
    }
   },
   "types_to_exclude": [
    "module",
    "function",
    "builtin_function_or_method",
    "instance",
    "_Feature"
   ],
   "window_display": false
  }
 },
 "nbformat": 4,
 "nbformat_minor": 1
}