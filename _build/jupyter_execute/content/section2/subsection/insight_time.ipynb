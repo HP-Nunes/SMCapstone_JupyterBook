{
 "cells": [
  {
   "cell_type": "markdown",
   "metadata": {},
   "source": [
    "# Temporal Trends"
   ]
  },
  {
   "cell_type": "code",
   "execution_count": 1,
   "metadata": {},
   "outputs": [
    {
     "ename": "ModuleNotFoundError",
     "evalue": "No module named 'plotly_viz'",
     "output_type": "error",
     "traceback": [
      "\u001b[0;31m---------------------------------------------------------------------------\u001b[0m",
      "\u001b[0;31mModuleNotFoundError\u001b[0m                       Traceback (most recent call last)",
      "\u001b[0;32m/tmp/ipykernel_20429/3749520167.py\u001b[0m in \u001b[0;36m<module>\u001b[0;34m\u001b[0m\n\u001b[1;32m      1\u001b[0m \u001b[0;31m# from wrangling4 import *\u001b[0m\u001b[0;34m\u001b[0m\u001b[0;34m\u001b[0m\u001b[0;34m\u001b[0m\u001b[0m\n\u001b[1;32m      2\u001b[0m \u001b[0;31m# poly, lyftSF19_df,docked_df,docked_df100_intersect = lyft19Combined()\u001b[0m\u001b[0;34m\u001b[0m\u001b[0;34m\u001b[0m\u001b[0;34m\u001b[0m\u001b[0m\n\u001b[0;32m----> 3\u001b[0;31m \u001b[0;32mfrom\u001b[0m \u001b[0mplotly_viz\u001b[0m \u001b[0;32mimport\u001b[0m \u001b[0;34m*\u001b[0m\u001b[0;34m\u001b[0m\u001b[0;34m\u001b[0m\u001b[0m\n\u001b[0m",
      "\u001b[0;31mModuleNotFoundError\u001b[0m: No module named 'plotly_viz'"
     ]
    }
   ],
   "source": [
    "# from wrangling4 import *\n",
    "# poly, lyftSF19_df,docked_df,docked_df100_intersect = lyft19Combined()\n",
    "from plotly_viz import *"
   ]
  },
  {
   "cell_type": "markdown",
   "metadata": {},
   "source": [
    "## Monthly Trends\n",
    "\n",
    "<b> Barplot & Trendline of the total number of trips per Month and Quarter </b>\n",
    "\n",
    "Although the decrease in total trips between April and May can be attributed to the recall of all e-bikes following reported malfunctions with the model's brakes; the second recall of e-bikes, which included recalling the rollout of the brand new dockless fleet in July, did not result in a sharp decrease of trips.\n",
    "\n",
    "The noticeable decrease of trips during Q4 may be attributed towards seasonal inclement weather conditions (such as heatwaves), or worsened air quality (such as the [Kincade Fire](https://www.sfgate.com/california-wildfires/article/how-bad-is-air-bay-area-kincade-fire-sonoma-sf-14569337.php), which spanned from late October to early November)."
   ]
  },
  {
   "cell_type": "code",
   "execution_count": 2,
   "metadata": {},
   "outputs": [
    {
     "data": {
      "text/html": [
       "\n",
       "\n",
       "\n",
       "\n",
       "\n",
       "\n",
       "<div class=\"bk-root\" id=\"8874e21d-9d83-4179-ac74-b4ea24bede91\" data-root-id=\"1002\"></div>\n"
      ]
     },
     "metadata": {},
     "output_type": "display_data"
    },
    {
     "data": {
      "application/javascript": [
       "(function(root) {\n",
       "  function embed_document(root) {\n",
       "    \n",
       "  var docs_json = {\"8ae24853-9451-416a-9e41-41f3b989aefb\":{\"roots\":{\"references\":[{\"attributes\":{\"below\":[{\"id\":\"1010\"}],\"center\":[{\"id\":\"1012\"},{\"id\":\"1016\"}],\"left\":[{\"id\":\"1013\"}],\"plot_height\":250,\"renderers\":[{\"id\":\"1021\"},{\"id\":\"1026\"}],\"title\":{\"id\":\"1029\"},\"toolbar\":{\"id\":\"1017\"},\"toolbar_location\":null,\"x_range\":{\"id\":\"1001\"},\"x_scale\":{\"id\":\"1006\"},\"y_range\":{\"id\":\"1004\"},\"y_scale\":{\"id\":\"1008\"}},\"id\":\"1002\",\"subtype\":\"Figure\",\"type\":\"Plot\"},{\"attributes\":{\"factors\":[[\"Q1\",\"jan\"],[\"Q1\",\"feb\"],[\"Q1\",\"mar\"],[\"Q2\",\"apr\"],[\"Q2\",\"may\"],[\"Q2\",\"jun\"],[\"Q3\",\"jul\"],[\"Q3\",\"aug\"],[\"Q3\",\"sep\"],[\"Q4\",\"oct\"],[\"Q4\",\"nov\"],[\"Q4\",\"dec\"]],\"range_padding\":0.1},\"id\":\"1001\",\"type\":\"FactorRange\"},{\"attributes\":{\"source\":{\"id\":\"1023\"}},\"id\":\"1027\",\"type\":\"CDSView\"},{\"attributes\":{\"data\":{\"x\":[[\"Q1\",\"jan\"],[\"Q1\",\"feb\"],[\"Q1\",\"mar\"],[\"Q2\",\"apr\"],[\"Q2\",\"may\"],[\"Q2\",\"jun\"],[\"Q3\",\"jul\"],[\"Q3\",\"aug\"],[\"Q3\",\"sep\"],[\"Q4\",\"oct\"],[\"Q4\",\"nov\"],[\"Q4\",\"dec\"]],\"y\":[143091,133698,190072,175830,132342,141924,151864,156390,160236,182100,140314,97547]},\"selected\":{\"id\":\"1037\"},\"selection_policy\":{\"id\":\"1038\"}},\"id\":\"1023\",\"type\":\"ColumnDataSource\"},{\"attributes\":{\"source\":{\"id\":\"1018\"}},\"id\":\"1022\",\"type\":\"CDSView\"},{\"attributes\":{\"text\":\"\"},\"id\":\"1029\",\"type\":\"Title\"},{\"attributes\":{\"axis\":{\"id\":\"1010\"},\"grid_line_color\":null,\"ticker\":null},\"id\":\"1012\",\"type\":\"Grid\"},{\"attributes\":{\"line_alpha\":0.1,\"line_color\":\"purple\",\"line_width\":2,\"x\":{\"field\":\"x\"},\"y\":{\"field\":\"y\"}},\"id\":\"1025\",\"type\":\"Line\"},{\"attributes\":{\"data_source\":{\"id\":\"1023\"},\"glyph\":{\"id\":\"1024\"},\"hover_glyph\":null,\"muted_glyph\":null,\"nonselection_glyph\":{\"id\":\"1025\"},\"selection_glyph\":null,\"view\":{\"id\":\"1027\"}},\"id\":\"1026\",\"type\":\"GlyphRenderer\"},{\"attributes\":{\"active_drag\":\"auto\",\"active_inspect\":\"auto\",\"active_multi\":null,\"active_scroll\":\"auto\",\"active_tap\":\"auto\"},\"id\":\"1017\",\"type\":\"Toolbar\"},{\"attributes\":{\"line_color\":\"purple\",\"line_width\":2,\"x\":{\"field\":\"x\"},\"y\":{\"field\":\"y\"}},\"id\":\"1024\",\"type\":\"Line\"},{\"attributes\":{\"use_scientific\":false},\"id\":\"1028\",\"type\":\"BasicTickFormatter\"},{\"attributes\":{\"fill_alpha\":{\"value\":0.1},\"fill_color\":{\"value\":\"pink\"},\"line_alpha\":{\"value\":0.1},\"line_color\":{\"value\":\"#1f77b4\"},\"top\":{\"field\":\"top\"},\"width\":{\"value\":0.9},\"x\":{\"field\":\"x\"}},\"id\":\"1020\",\"type\":\"VBar\"},{\"attributes\":{\"formatter\":{\"id\":\"1028\"},\"ticker\":{\"id\":\"1014\"}},\"id\":\"1013\",\"type\":\"LinearAxis\"},{\"attributes\":{},\"id\":\"1031\",\"type\":\"CategoricalTickFormatter\"},{\"attributes\":{\"fill_alpha\":{\"value\":0.5},\"fill_color\":{\"value\":\"pink\"},\"line_alpha\":{\"value\":0.5},\"line_color\":{\"value\":\"#1f77b4\"},\"top\":{\"field\":\"top\"},\"width\":{\"value\":0.9},\"x\":{\"field\":\"x\"}},\"id\":\"1019\",\"type\":\"VBar\"},{\"attributes\":{},\"id\":\"1036\",\"type\":\"UnionRenderers\"},{\"attributes\":{\"end\":200000,\"start\":0},\"id\":\"1004\",\"type\":\"DataRange1d\"},{\"attributes\":{},\"id\":\"1035\",\"type\":\"Selection\"},{\"attributes\":{\"data\":{\"top\":[143091,133698,190072,175830,132342,141924,151864,156390,160236,182100,140314,97547],\"x\":[[\"Q1\",\"jan\"],[\"Q1\",\"feb\"],[\"Q1\",\"mar\"],[\"Q2\",\"apr\"],[\"Q2\",\"may\"],[\"Q2\",\"jun\"],[\"Q3\",\"jul\"],[\"Q3\",\"aug\"],[\"Q3\",\"sep\"],[\"Q4\",\"oct\"],[\"Q4\",\"nov\"],[\"Q4\",\"dec\"]]},\"selected\":{\"id\":\"1035\"},\"selection_policy\":{\"id\":\"1036\"}},\"id\":\"1018\",\"type\":\"ColumnDataSource\"},{\"attributes\":{},\"id\":\"1037\",\"type\":\"Selection\"},{\"attributes\":{},\"id\":\"1006\",\"type\":\"CategoricalScale\"},{\"attributes\":{},\"id\":\"1038\",\"type\":\"UnionRenderers\"},{\"attributes\":{\"data_source\":{\"id\":\"1018\"},\"glyph\":{\"id\":\"1019\"},\"hover_glyph\":null,\"muted_glyph\":null,\"nonselection_glyph\":{\"id\":\"1020\"},\"selection_glyph\":null,\"view\":{\"id\":\"1022\"}},\"id\":\"1021\",\"type\":\"GlyphRenderer\"},{\"attributes\":{\"axis\":{\"id\":\"1013\"},\"dimension\":1,\"ticker\":null},\"id\":\"1016\",\"type\":\"Grid\"},{\"attributes\":{\"formatter\":{\"id\":\"1031\"},\"major_label_orientation\":1,\"ticker\":{\"id\":\"1011\"}},\"id\":\"1010\",\"type\":\"CategoricalAxis\"},{\"attributes\":{},\"id\":\"1011\",\"type\":\"CategoricalTicker\"},{\"attributes\":{},\"id\":\"1008\",\"type\":\"LinearScale\"},{\"attributes\":{},\"id\":\"1014\",\"type\":\"BasicTicker\"}],\"root_ids\":[\"1002\"]},\"title\":\"Bokeh Application\",\"version\":\"2.2.3\"}};\n",
       "  var render_items = [{\"docid\":\"8ae24853-9451-416a-9e41-41f3b989aefb\",\"root_ids\":[\"1002\"],\"roots\":{\"1002\":\"8874e21d-9d83-4179-ac74-b4ea24bede91\"}}];\n",
       "  root.Bokeh.embed.embed_items_notebook(docs_json, render_items);\n",
       "\n",
       "  }\n",
       "  if (root.Bokeh !== undefined) {\n",
       "    embed_document(root);\n",
       "  } else {\n",
       "    var attempts = 0;\n",
       "    var timer = setInterval(function(root) {\n",
       "      if (root.Bokeh !== undefined) {\n",
       "        clearInterval(timer);\n",
       "        embed_document(root);\n",
       "      } else {\n",
       "        attempts++;\n",
       "        if (attempts > 100) {\n",
       "          clearInterval(timer);\n",
       "          console.log(\"Bokeh: ERROR: Unable to run BokehJS code because BokehJS library is missing\");\n",
       "        }\n",
       "      }\n",
       "    }, 10, root)\n",
       "  }\n",
       "})(window);"
      ],
      "application/vnd.bokehjs_exec.v0+json": ""
     },
     "metadata": {
      "application/vnd.bokehjs_exec.v0+json": {
       "id": "1002"
      }
     },
     "output_type": "display_data"
    }
   ],
   "source": [
    "barplot_monthly()"
   ]
  },
  {
   "cell_type": "markdown",
   "metadata": {},
   "source": [
    "## Hourly Trends"
   ]
  },
  {
   "cell_type": "markdown",
   "metadata": {},
   "source": [
    "The longest daytime trips occur on the weekend, probably for recreational trips in the city's green and touristic areas. Longer daytime rides over the weekdays are busiest during commuter's hours, between 8 to 9 am, and 5 and 6 pm.\n",
    "\n",
    "Nightime usage, especially in the early morning of weekdays between 2 to 4 am, tends to be longer than the average largely due to the smallest proportion of rides compared to daytime hours. However, it can be reasonably theorized that longer trips occur over these unconventional hours for workers starting early shifts (in grocery stores and warehouses, for instance), as a commuting alternative to limited public transportation at those hours.\n",
    "\n",
    "<b> Heatmap of the Hourly Median Trip Duration (minutes) by Days of the Week </b>\n",
    "\n",
    "> Why take the median instead of the average of trip durations? <br> <br>\n",
    "Trips taken during \"odd hours\" (8pm to 6am) are few in numbers, but tend to be longer than the overall average, thereby skewing disproportionally the duration scale. The median in this case is a more robust indicator than the mean."
   ]
  },
  {
   "cell_type": "code",
   "execution_count": 3,
   "metadata": {},
   "outputs": [
    {
     "data": {
      "text/html": [
       "\n",
       "<iframe\n",
       "    width=\"100%\"\n",
       "    height=\"525px\"\n",
       "    src=\"https://plotly.com/~HP-Nunes/417.embed\"\n",
       "    frameborder=\"0\"\n",
       "    allowfullscreen\n",
       "></iframe>\n"
      ],
      "text/plain": [
       "<IPython.lib.display.IFrame at 0x7fbc19deee90>"
      ]
     },
     "execution_count": 3,
     "metadata": {},
     "output_type": "execute_result"
    }
   ],
   "source": [
    "heatmap_hourly()"
   ]
  },
  {
   "cell_type": "markdown",
   "metadata": {},
   "source": [
    "<b> Heatmap of the Total Hourly Number of Trips by Days of the Week </b>\n",
    "\n",
    "As suspected, although nightime/early morning rides may be longer than the average trip, they are much fewer in numbers compared to daytime trips.\n",
    "\n",
    "We can also observe peak hours in ridership correlating with commuter behavior: weekdays between 7 and 10 am, and between 4 and 7 pm see the most ridership activity. Weekends from noon to 3 pm indicate a moderate uptick in ridership compared to their equivalent over the weekday.\n",
    "\n",
    "This strongly suggest that while Bay Wheels is primarly used as a first-and-last mile commuter option (most likely serving office workers), it also serves a recreational or casual purpose on weekends."
   ]
  },
  {
   "cell_type": "code",
   "execution_count": 4,
   "metadata": {},
   "outputs": [
    {
     "data": {
      "text/html": [
       "\n",
       "<iframe\n",
       "    width=\"100%\"\n",
       "    height=\"525px\"\n",
       "    src=\"https://plotly.com/~HP-Nunes/431.embed\"\n",
       "    frameborder=\"0\"\n",
       "    allowfullscreen\n",
       "></iframe>\n"
      ],
      "text/plain": [
       "<IPython.lib.display.IFrame at 0x7fbc19d78d90>"
      ]
     },
     "execution_count": 4,
     "metadata": {},
     "output_type": "execute_result"
    }
   ],
   "source": [
    "heatmap_hourly_count()"
   ]
  }
 ],
 "metadata": {
  "kernelspec": {
   "display_name": "Python 3",
   "language": "python",
   "name": "python3"
  },
  "language_info": {
   "codemirror_mode": {
    "name": "ipython",
    "version": 3
   },
   "file_extension": ".py",
   "mimetype": "text/x-python",
   "name": "python",
   "nbconvert_exporter": "python",
   "pygments_lexer": "ipython3",
   "version": "3.7.11"
  },
  "widgets": {
   "application/vnd.jupyter.widget-state+json": {
    "state": {},
    "version_major": 2,
    "version_minor": 0
   }
  }
 },
 "nbformat": 4,
 "nbformat_minor": 4
}