{
 "cells": [
  {
   "cell_type": "markdown",
   "metadata": {},
   "source": [
    "# Estimating 2019 Revenue "
   ]
  },
  {
   "cell_type": "markdown",
   "metadata": {},
   "source": [
    "## A Tumultuous Year: \n",
    "\n",
    "2019 was a landmark year for Lyft and Bay Wheels, but the company also faced many tribulations along the way.\n",
    "\n",
    "* March 29th: Lyft went public on the stock market, with a market valuation of \\$22.2 billion\n",
    "\n",
    "https://www.cnbc.com/2019/03/29/lyft-ipo-stock-starts-trading-on-public-market.html\n",
    "\n",
    "----\n",
    "\n",
    "* April 15th: Lyft grounded its entire e-bike fleet, 1,000 bikes, following reports of issues with the e-bikes' brakes.\n",
    "\n",
    "https://www.sfchronicle.com/business/article/Lyft-pulls-electric-Ford-GoBikes-off-the-road-13769670.php\n",
    "\n",
    "----\n",
    "\n",
    "* June 11th: Lyft rebranded from Ford GoBike to Bay Wheels. \n",
    "\n",
    "https://www.lyft.com/blog/posts/introducing-bay-wheels-new-bikes-and-a-new-name\n",
    "\n",
    "----\n",
    "\n",
    "* July 10th: Lyft won a preliminary ruling for exclusive bike-rental rights in San Francisco, locking-out its biggest competitor, Uber's JUMP bikes.\n",
    "\n",
    "https://www.sfchronicle.com/business/article/Lyft-wins-preliminary-ruling-for-exclusive-14086941.php?psid=alGCE\n",
    "\n",
    "----\n",
    "\n",
    "* July 19th: Lyft redeployed and redesigned its ebike fleet—1,900 ebikes—with both docked and dockless capabilities. \n",
    "\n",
    "https://www.sfchronicle.com/business/article/Lyft-s-electric-Bay-Wheels-bikes-back-in-San-14108790.php\n",
    "\n",
    "----\n",
    "\n",
    "* July 31st: Lyft recalled its dockless e-bike fleet once more, following reported fires suspected to be caused by malfunctions of the bikes' batteries.\n",
    "\n",
    "<div class=\"center\">\n",
    "\n",
    "<blockquote class=\"twitter-tweet\"><p lang=\"en\" dir=\"ltr\">Don’t think I’ll be going on a <a href=\"https://twitter.com/lyft?ref_src=twsrc%5Etfw\">@lyft</a> <a href=\"https://twitter.com/baywheels?ref_src=twsrc%5Etfw\">@baywheels</a> any time soon. Yikes. <a href=\"https://t.co/MOU9wIjgII\">pic.twitter.com/MOU9wIjgII</a></p>&mdash; Zach Rutta (@zrutta44) <a href=\"https://twitter.com/zrutta44/status/1155147459313598465?ref_src=twsrc%5Etfw\">July 27, 2019</a></blockquote> \n",
    "<script async src=\"https://platform.twitter.com/widgets.js\" charset=\"utf-8\"></script> \n",
    "\n",
    "</div>\n",
    "\n",
    "https://www.theverge.com/2019/7/31/20749396/lyft-electric-bikes-pulled-san-francisco-battery-fires-motivate-bay-wheels\n",
    "\n",
    "----\n",
    "\n",
    "* December 19th: Lyft redeployed its dockeless e-bike fleet, with plans to increase its fleet to 4,000 by April of 2020.\n",
    "\n",
    "https://medium.com/@baywheels/bringing-ebikes-back-in-san-francisco-and-upcoming-ebike-pricing-changes-b574f621f2db"
   ]
  },
  {
   "cell_type": "markdown",
   "metadata": {},
   "source": [
    "<br>\n",
    "Annotated 2019 Timeline of Estimated Revenue from Trips"
   ]
  },
  {
   "cell_type": "code",
   "execution_count": 1,
   "metadata": {},
   "outputs": [
    {
     "ename": "ModuleNotFoundError",
     "evalue": "No module named 'plotly_viz'",
     "output_type": "error",
     "traceback": [
      "\u001b[0;31m---------------------------------------------------------------------------\u001b[0m",
      "\u001b[0;31mModuleNotFoundError\u001b[0m                       Traceback (most recent call last)",
      "\u001b[0;32m/tmp/ipykernel_23638/1433635391.py\u001b[0m in \u001b[0;36m<module>\u001b[0;34m\u001b[0m\n\u001b[0;32m----> 1\u001b[0;31m \u001b[0;32mfrom\u001b[0m \u001b[0mplotly_viz\u001b[0m \u001b[0;32mimport\u001b[0m \u001b[0;34m*\u001b[0m\u001b[0;34m\u001b[0m\u001b[0;34m\u001b[0m\u001b[0m\n\u001b[0m\u001b[1;32m      2\u001b[0m \u001b[0mannotated_timeline\u001b[0m\u001b[0;34m(\u001b[0m\u001b[0;34m)\u001b[0m\u001b[0;34m\u001b[0m\u001b[0;34m\u001b[0m\u001b[0m\n",
      "\u001b[0;31mModuleNotFoundError\u001b[0m: No module named 'plotly_viz'"
     ]
    }
   ],
   "source": [
    "from plotly_viz import *\n",
    "annotated_timeline()"
   ]
  },
  {
   "cell_type": "markdown",
   "metadata": {},
   "source": [
    "## 2019 Pricing Scheme\n",
    "\n",
    "Bay Wheels' rates for e-bikes changed on [March 2nd, 2020](https://medium.com/@baywheels/sf-ebike-pricing-details-1b97667f1e5a), from the [2019](https://www.tunneltime.io/san-francisco-usa/bay-wheels) rates:\n",
    "\n",
    "![pricing](img/2019pricing.png)\n",
    "\n",
    "Bay Wheels also include an annual [Bike Share for All](https://www.lyft.com/bikes/bay-wheels/bike-share-for-all) (BSFA) membership plan for low-income Bay Area residents."
   ]
  },
  {
   "cell_type": "markdown",
   "metadata": {},
   "source": [
    "Estimated Trip Revenue by Quarters"
   ]
  },
  {
   "cell_type": "code",
   "execution_count": 2,
   "metadata": {},
   "outputs": [
    {
     "data": {
      "text/html": [
       "\n",
       "\n",
       "\n",
       "\n",
       "\n",
       "\n",
       "<div class=\"bk-root\" id=\"34152d73-4333-42c8-b766-8ac86deeae0e\" data-root-id=\"1659\"></div>\n"
      ]
     },
     "metadata": {},
     "output_type": "display_data"
    },
    {
     "data": {
      "application/javascript": [
       "(function(root) {\n",
       "  function embed_document(root) {\n",
       "    \n",
       "  var docs_json = {\"7c1d6260-ca45-4cc3-a5c1-456dff82e17e\":{\"roots\":{\"references\":[{\"attributes\":{\"below\":[{\"id\":\"1667\"}],\"center\":[{\"id\":\"1669\"},{\"id\":\"1673\"}],\"left\":[{\"id\":\"1670\"}],\"plot_height\":250,\"renderers\":[{\"id\":\"1678\"},{\"id\":\"1683\"}],\"title\":{\"id\":\"1687\"},\"toolbar\":{\"id\":\"1674\"},\"toolbar_location\":null,\"x_range\":{\"id\":\"1658\"},\"x_scale\":{\"id\":\"1663\"},\"y_range\":{\"id\":\"1661\"},\"y_scale\":{\"id\":\"1665\"}},\"id\":\"1659\",\"subtype\":\"Figure\",\"type\":\"Plot\"},{\"attributes\":{},\"id\":\"1694\",\"type\":\"UnionRenderers\"},{\"attributes\":{},\"id\":\"1692\",\"type\":\"UnionRenderers\"},{\"attributes\":{\"data\":{\"x\":[\"Q1\",\"Q2\",\"Q3\",\"Q4\"],\"y\":[119132,90115,99607,122861]},\"selected\":{\"id\":\"1695\"},\"selection_policy\":{\"id\":\"1694\"}},\"id\":\"1680\",\"type\":\"ColumnDataSource\"},{\"attributes\":{\"data_source\":{\"id\":\"1675\"},\"glyph\":{\"id\":\"1676\"},\"hover_glyph\":null,\"muted_glyph\":null,\"nonselection_glyph\":{\"id\":\"1677\"},\"selection_glyph\":null,\"view\":{\"id\":\"1679\"}},\"id\":\"1678\",\"type\":\"GlyphRenderer\"},{\"attributes\":{\"source\":{\"id\":\"1675\"}},\"id\":\"1679\",\"type\":\"CDSView\"},{\"attributes\":{\"text\":\"\"},\"id\":\"1687\",\"type\":\"Title\"},{\"attributes\":{},\"id\":\"1671\",\"type\":\"BasicTicker\"},{\"attributes\":{\"data_source\":{\"id\":\"1680\"},\"glyph\":{\"id\":\"1681\"},\"hover_glyph\":null,\"muted_glyph\":null,\"nonselection_glyph\":{\"id\":\"1682\"},\"selection_glyph\":null,\"view\":{\"id\":\"1684\"}},\"id\":\"1683\",\"type\":\"GlyphRenderer\"},{\"attributes\":{\"line_color\":\"red\",\"line_width\":2,\"x\":{\"field\":\"x\"},\"y\":{\"field\":\"y\"}},\"id\":\"1681\",\"type\":\"Line\"},{\"attributes\":{\"fill_alpha\":{\"value\":0.1},\"fill_color\":{\"value\":\"green\"},\"line_alpha\":{\"value\":0.1},\"line_color\":{\"value\":\"#1f77b4\"},\"top\":{\"field\":\"top\"},\"width\":{\"value\":0.9},\"x\":{\"field\":\"x\"}},\"id\":\"1677\",\"type\":\"VBar\"},{\"attributes\":{},\"id\":\"1668\",\"type\":\"CategoricalTicker\"},{\"attributes\":{\"source\":{\"id\":\"1680\"}},\"id\":\"1684\",\"type\":\"CDSView\"},{\"attributes\":{\"data\":{\"top\":[73332,68690,130978,111055,72668,95176,128323,115722,127999,138902,101681,130620],\"x\":[[\"Q1\",\"jan\"],[\"Q1\",\"feb\"],[\"Q1\",\"mar\"],[\"Q2\",\"apr\"],[\"Q2\",\"may\"],[\"Q2\",\"jun\"],[\"Q3\",\"jul\"],[\"Q3\",\"aug\"],[\"Q3\",\"sep\"],[\"Q4\",\"oct\"],[\"Q4\",\"nov\"],[\"Q4\",\"dec\"]]},\"selected\":{\"id\":\"1693\"},\"selection_policy\":{\"id\":\"1692\"}},\"id\":\"1675\",\"type\":\"ColumnDataSource\"},{\"attributes\":{\"line_alpha\":0.1,\"line_color\":\"red\",\"line_width\":2,\"x\":{\"field\":\"x\"},\"y\":{\"field\":\"y\"}},\"id\":\"1682\",\"type\":\"Line\"},{\"attributes\":{},\"id\":\"1665\",\"type\":\"LinearScale\"},{\"attributes\":{},\"id\":\"1663\",\"type\":\"CategoricalScale\"},{\"attributes\":{\"formatter\":{\"id\":\"1688\"},\"major_label_orientation\":1,\"ticker\":{\"id\":\"1668\"}},\"id\":\"1667\",\"type\":\"CategoricalAxis\"},{\"attributes\":{\"end\":140000,\"start\":0},\"id\":\"1661\",\"type\":\"DataRange1d\"},{\"attributes\":{\"axis\":{\"id\":\"1667\"},\"grid_line_color\":null,\"ticker\":null},\"id\":\"1669\",\"type\":\"Grid\"},{\"attributes\":{\"use_scientific\":false},\"id\":\"1685\",\"type\":\"BasicTickFormatter\"},{\"attributes\":{\"fill_alpha\":{\"value\":0.5},\"fill_color\":{\"value\":\"green\"},\"line_alpha\":{\"value\":0.5},\"line_color\":{\"value\":\"#1f77b4\"},\"top\":{\"field\":\"top\"},\"width\":{\"value\":0.9},\"x\":{\"field\":\"x\"}},\"id\":\"1676\",\"type\":\"VBar\"},{\"attributes\":{},\"id\":\"1688\",\"type\":\"CategoricalTickFormatter\"},{\"attributes\":{\"factors\":[[\"Q1\",\"jan\"],[\"Q1\",\"feb\"],[\"Q1\",\"mar\"],[\"Q2\",\"apr\"],[\"Q2\",\"may\"],[\"Q2\",\"jun\"],[\"Q3\",\"jul\"],[\"Q3\",\"aug\"],[\"Q3\",\"sep\"],[\"Q4\",\"oct\"],[\"Q4\",\"nov\"],[\"Q4\",\"dec\"]],\"range_padding\":0.1},\"id\":\"1658\",\"type\":\"FactorRange\"},{\"attributes\":{\"axis\":{\"id\":\"1670\"},\"dimension\":1,\"ticker\":null},\"id\":\"1673\",\"type\":\"Grid\"},{\"attributes\":{\"active_drag\":\"auto\",\"active_inspect\":\"auto\",\"active_multi\":null,\"active_scroll\":\"auto\",\"active_tap\":\"auto\"},\"id\":\"1674\",\"type\":\"Toolbar\"},{\"attributes\":{\"formatter\":{\"id\":\"1685\"},\"ticker\":{\"id\":\"1671\"}},\"id\":\"1670\",\"type\":\"LinearAxis\"},{\"attributes\":{},\"id\":\"1693\",\"type\":\"Selection\"},{\"attributes\":{},\"id\":\"1695\",\"type\":\"Selection\"}],\"root_ids\":[\"1659\"]},\"title\":\"Bokeh Application\",\"version\":\"2.2.3\"}};\n",
       "  var render_items = [{\"docid\":\"7c1d6260-ca45-4cc3-a5c1-456dff82e17e\",\"root_ids\":[\"1659\"],\"roots\":{\"1659\":\"34152d73-4333-42c8-b766-8ac86deeae0e\"}}];\n",
       "  root.Bokeh.embed.embed_items_notebook(docs_json, render_items);\n",
       "\n",
       "  }\n",
       "  if (root.Bokeh !== undefined) {\n",
       "    embed_document(root);\n",
       "  } else {\n",
       "    var attempts = 0;\n",
       "    var timer = setInterval(function(root) {\n",
       "      if (root.Bokeh !== undefined) {\n",
       "        clearInterval(timer);\n",
       "        embed_document(root);\n",
       "      } else {\n",
       "        attempts++;\n",
       "        if (attempts > 100) {\n",
       "          clearInterval(timer);\n",
       "          console.log(\"Bokeh: ERROR: Unable to run BokehJS code because BokehJS library is missing\");\n",
       "        }\n",
       "      }\n",
       "    }, 10, root)\n",
       "  }\n",
       "})(window);"
      ],
      "application/vnd.bokehjs_exec.v0+json": ""
     },
     "metadata": {
      "application/vnd.bokehjs_exec.v0+json": {
       "id": "1659"
      }
     },
     "output_type": "display_data"
    }
   ],
   "source": [
    "barplot_revenue()"
   ]
  },
  {
   "cell_type": "markdown",
   "metadata": {},
   "source": [
    "## Trends by Riders' Characteristics"
   ]
  },
  {
   "cell_type": "markdown",
   "metadata": {},
   "source": [
    "<b> Pie-chart: Subscribers V. Customers </b>\n",
    "\n",
    "4 out of 5 Bay Wheels riders are subscribed to a membership tier (Monthly, Annual, Day Pass, or BSFA). Only 1 in 5 riders purchase single rides."
   ]
  },
  {
   "cell_type": "code",
   "execution_count": 3,
   "metadata": {},
   "outputs": [
    {
     "data": {
      "text/plain": [
       "<matplotlib.axes._subplots.AxesSubplot at 0x7f1b3ac59210>"
      ]
     },
     "execution_count": 3,
     "metadata": {},
     "output_type": "execute_result"
    },
    {
     "data": {
      "image/png": "[encoded data removed]",
      "text/plain": [
       "<Figure size 300x300 with 1 Axes>"
      ]
     },
     "metadata": {
      "filenames": {
       "image/png": "/home/hpnunes/repo/SmCapstone_JB_deploy/JB/_build/jupyter_execute/content/section2/subsection/insight_revenue_9_1.png"
      }
     },
     "output_type": "display_data"
    }
   ],
   "source": [
    "from pieMaker import *\n",
    "\n",
    "pieMaker2(lyftSF19_df,'user_type',(6,6)) "
   ]
  },
  {
   "cell_type": "markdown",
   "metadata": {},
   "source": [
    "<b> Pie-chart: \"Bike Share for All\" (BFSA) Subscribers</b>\n",
    "\n",
    "Only 3% of all riders in San Francisco take advantage of the BFSA program."
   ]
  },
  {
   "cell_type": "code",
   "execution_count": 8,
   "metadata": {},
   "outputs": [
    {
     "data": {
      "text/plain": [
       "<AxesSubplot:ylabel='None'>"
      ]
     },
     "execution_count": 8,
     "metadata": {},
     "output_type": "execute_result"
    },
    {
     "data": {
      "image/png": "[encoded data removed]",
      "text/plain": [
       "<Figure size 300x300 with 1 Axes>"
      ]
     },
     "metadata": {
      "filenames": {
       "image/png": "/home/hpnunes/repo/SmCapstone_JB_deploy/JB/_build/jupyter_execute/content/section2/subsection/insight_revenue_11_1.png"
      }
     },
     "output_type": "display_data"
    }
   ],
   "source": [
    "pieMaker2(lyftSF19_df,'bike_share_for_all_trip',(6,6))"
   ]
  },
  {
   "cell_type": "markdown",
   "metadata": {},
   "source": [
    "<b> Pie-chart: Rental Access Method </b>\n",
    "\n",
    "The vast majority of riders use the Lyft's Bay Wheels App to purchase rides, with nearly 8% of all riders using the San Francisco Municipal Transportation Agency's Clipper Card.\n",
    "\n",
    "\n",
    "<img src= \"img/baywheels.jpg\" width=\"300\" height=\"100\" /> <img src= \"img/clipper.jpg\" width=\"300\" height=\"200\" />"
   ]
  },
  {
   "cell_type": "code",
   "execution_count": 9,
   "metadata": {},
   "outputs": [
    {
     "data": {
      "text/plain": [
       "<AxesSubplot:ylabel='None'>"
      ]
     },
     "execution_count": 9,
     "metadata": {},
     "output_type": "execute_result"
    },
    {
     "data": {
      "image/png": "[encoded data removed]",
      "text/plain": [
       "<Figure size 300x300 with 1 Axes>"
      ]
     },
     "metadata": {
      "filenames": {
       "image/png": "/home/hpnunes/repo/SmCapstone_JB_deploy/JB/_build/jupyter_execute/content/section2/subsection/insight_revenue_13_1.png"
      }
     },
     "output_type": "display_data"
    }
   ],
   "source": [
    "pieMaker2(lyftSF19_df,'rental_access_method',(6,6))"
   ]
  }
 ],
 "metadata": {
  "kernelspec": {
   "display_name": "Python 3",
   "language": "python",
   "name": "python3"
  },
  "language_info": {
   "codemirror_mode": {
    "name": "ipython",
    "version": 3
   },
   "file_extension": ".py",
   "mimetype": "text/x-python",
   "name": "python",
   "nbconvert_exporter": "python",
   "pygments_lexer": "ipython3",
   "version": "3.7.11"
  },
  "toc": {
   "base_numbering": 1,
   "nav_menu": {},
   "number_sections": true,
   "sideBar": true,
   "skip_h1_title": false,
   "title_cell": "Table of Contents",
   "title_sidebar": "Contents",
   "toc_cell": false,
   "toc_position": {},
   "toc_section_display": true,
   "toc_window_display": false
  },
  "widgets": {
   "application/vnd.jupyter.widget-state+json": {
    "state": {},
    "version_major": 2,
    "version_minor": 0
   }
  }
 },
 "nbformat": 4,
 "nbformat_minor": 4
}